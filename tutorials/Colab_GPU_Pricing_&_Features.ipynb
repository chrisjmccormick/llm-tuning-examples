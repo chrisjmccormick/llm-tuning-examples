{
  "nbformat": 4,
  "nbformat_minor": 0,
  "metadata": {
    "colab": {
      "provenance": [],
      "toc_visible": true,
      "collapsed_sections": [
        "YHzY9sF5Z6z9"
      ],
      "authorship_tag": "ABX9TyMcbpd52nxW5F4czyHiYp67",
      "include_colab_link": true
    },
    "kernelspec": {
      "name": "python3",
      "display_name": "Python 3"
    },
    "language_info": {
      "name": "python"
    }
  },
  "cells": [
    {
      "cell_type": "markdown",
      "metadata": {
        "id": "view-in-github",
        "colab_type": "text"
      },
      "source": [
        "<a href=\"https://colab.research.google.com/github/chrisjmccormick/llm-tuning-examples/blob/main/Colab_GPU_Pricing_%26_Features.ipynb\" target=\"_parent\"><img src=\"https://colab.research.google.com/assets/colab-badge.svg\" alt=\"Open In Colab\"/></a>"
      ]
    },
    {
      "cell_type": "markdown",
      "source": [
        "Recently I've been researching the topic of fine-tuning Large Language Models (LLMs) like GPT on a single GPU in Colab (a challenging feat!), comparing both the free (Tesla T4) and paid (L4, A100) options.\n",
        "\n",
        "I just saw the Nvidia \"L4\" added as _yet another_ option in the list of GPUs, so I decided it was time to assemble a table to make better sense of the choices.\n",
        "\n",
        "\n"
      ],
      "metadata": {
        "id": "ePmxM-De563D"
      }
    },
    {
      "cell_type": "markdown",
      "source": [
        "# S1. Colab's Value"
      ],
      "metadata": {
        "id": "BPyXZbBW61Dr"
      }
    },
    {
      "cell_type": "markdown",
      "source": [
        "Colab used to be an insane, completely free service to the research community, where you could get free access to high end GPUs. Even when the Colab Pro subscription was added, I think you were still getting below-cost access.\n",
        "\n",
        "I suspect that Stable Diffusion (the open source art generation model) may be what killed this... People built GUI tools on top of Colab that anyone could use to generate AI art for free, and suddenly a service meant for students and researchers had a much larger user base.\n",
        "\n",
        "Today, I think Colab charges an amount more in line with the **market rate** for access to the GPUs.\n",
        "\n",
        "The **T4 is still free**, though, and students, hobbyists, and low-income learners all over the world can still get hands-on with AI code that requires powerful GPUs to run. Thanks Google!\n",
        "\n",
        "And for those willing and able to pay for some GPU time, I think the simplicity of working in Colab (and the simplicity of their payment approach) still make it a great choice for my purposes."
      ],
      "metadata": {
        "id": "4sQgYCG363YC"
      }
    },
    {
      "cell_type": "markdown",
      "source": [
        "# S2. Pricing Approach"
      ],
      "metadata": {
        "id": "HPf7nvmj8ezq"
      }
    },
    {
      "cell_type": "markdown",
      "source": [
        "The actual hourly cost of the different GPUs isn't presented clearly (that I've found), so you have to work it out through a little experimentation--part of why I created this post!\n",
        "\n"
      ],
      "metadata": {
        "id": "-PabVu-H8h0a"
      }
    },
    {
      "cell_type": "markdown",
      "source": [
        "**Compute Units**\n",
        "\n",
        "First off, you pay for GPU time using the \"compute units\" in your account.\n",
        "\n",
        "These cost $ \\frac{\\text{\\$10}}{\\text{100 units}} $, or $ \\frac{\\text{\\$0.10}}{\\text{unit}} $\n",
        "\n",
        "The only way to get units is to pay $10 for 100 of them--pretty simple. There's no bulk discount.\n",
        "\n",
        "You can see their pricing plans and sign up [here](https://colab.research.google.com/signup?utm_source=resource_tab&utm_medium=link&utm_campaign=payg_learn_more).\n",
        "\n",
        "You can just **pay as you go**, or you can start a **monthly subscription** to Colab Pro / Pro+ and get a few more bells and whistles. 🤷‍♂️"
      ],
      "metadata": {
        "id": "TEa8muGm95fz"
      }
    },
    {
      "cell_type": "markdown",
      "source": [
        "**Your Units Balance & the \"Usage Rate\"**\n",
        "\n",
        "The way to see how many units you still have left, and how much your current session is costing, is to click on the dropdown arrow in the upper right and select \"View resources\"\n",
        "\n",
        "This will pop open a sidebar that shows your balance and current useage."
      ],
      "metadata": {
        "id": "Vv0VRCEvADFU"
      }
    },
    {
      "cell_type": "markdown",
      "source": [
        "![Steps for viewing compute units](https://drive.google.com/uc?export=view&id=1lJSEhmIZIoklON03pf-syjHpeUlqq-Jy)"
      ],
      "metadata": {
        "id": "cCjOaaoqPnyV"
      }
    },
    {
      "cell_type": "markdown",
      "source": [
        "Side note: It hadn't occurred to me before that this sidebar is a good place to check out your GPU memory useage while your code is running. (I usually print it out in my Notebooks with some clunky code, but that doesn't let you see it mid-run!)"
      ],
      "metadata": {
        "id": "3HeqoIuuAV5y"
      }
    },
    {
      "cell_type": "markdown",
      "source": [
        "# S3. Cost Per GPU"
      ],
      "metadata": {
        "id": "yOjo7Ue1BnkT"
      }
    },
    {
      "cell_type": "markdown",
      "source": [
        "I'm sure pricing will change over time, it does seem to fluctuate a little (perhaps it's based partly on current demand?) and I'm not sure how much your location factors in.\n",
        "\n",
        "Despite all that, it still seems worth sharing some hard numbers to serve as rough estimates. Here's what I'm seeing today (April 10th, 2024), in southern California.\n",
        "\n",
        "Because a unit costs 1/10th of a dollar, you can easily calculate the price by shifting the decimal point one place to the left.\n",
        "\n",
        "The fourth column shows you how much time you'll get (in hours:minutes) for your $10.\n",
        "\n",
        "| GPU ｜ | Units/hr ｜ | $/hr  ｜ | Time (h:m) ｜ | Date Checked |\n",
        "|------|--------------|----------|----------------------|---------|\n",
        "| T4   | 1.84         | \\$0.18    | 54:20                |   |\n",
        "| V100 | 4.91         | \\$0.49    | 20:21                |   |\n",
        "| L4   | 4.82         | \\$0.48    | 20:47                |  2024-04-22 |\n",
        "| A100 | 11.77        | \\$1.18    | 8:30                 |  2024-04-22 |\n",
        "\n",
        "Nick (in New York) checked his own pricing the next day, and was seeing slightly higher numbers--1.91 units/hr. for the T4, and 4.98 for the V100."
      ],
      "metadata": {
        "id": "bi6nvpDgQGMr"
      }
    },
    {
      "cell_type": "markdown",
      "source": [
        "I tried using a T4 from a free account, and the useage rate displayed:\n",
        "\n",
        "> \"At your current useage level, this runtime will last 3 hours and 20 minutes\"\n",
        "\n",
        "That would correspond to 6.12 units ($0.61), but I'm not sure what happens when that runs out. I imagine it's not a hard monthly limit? 🤷‍♂️"
      ],
      "metadata": {
        "id": "xa8XOoE_avSd"
      }
    },
    {
      "cell_type": "markdown",
      "source": [
        "# S4. GPU Timeline"
      ],
      "metadata": {
        "id": "kn-xsE9bBp2J"
      }
    },
    {
      "cell_type": "markdown",
      "source": [
        "![Timeline of GPUs](https://drive.google.com/uc?export=view&id=1HgUHi_RSVItI__M6rroU77nMUdkrhds_)"
      ],
      "metadata": {
        "id": "fkotZoTCS9aL"
      }
    },
    {
      "cell_type": "markdown",
      "source": [
        "The Wikipedia page for Tesla cards [here](https://en.wikipedia.org/wiki/Nvidia_Tesla) has a comprehensive table that covers the many variants of these cards, but I wanted to focus in on what's available in Colab.\n",
        "\n",
        "Note that the \"Launch Date\" is tricky--I tried to capture when they actually started shipping / became available in the cloud as opposed to when they were announced.\n",
        "\n",
        "\n"
      ],
      "metadata": {
        "id": "JFbUz2F2M4qN"
      }
    },
    {
      "cell_type": "markdown",
      "source": [
        "<table>\n",
        "  <tr height=\"40\">\n",
        "    <th width=\"100\" align=\"Center\">GPU Model</th>\n",
        "    <th width=\"100\" align=\"Left\">Architecture</th>\n",
        "    <th width=\"80\" align=\"Left\">Launch Date</th>\n",
        "    <th width=\"80\" align=\"Center\">VRAM</th>\n",
        "    <th>Website</th>\n",
        "  </tr>\n",
        "  <tr height=\"35\" bgcolor=\"#e6f5e6\">\n",
        "    <td align=\"center\">V100</td>\n",
        "    <td>Volta</td>\n",
        "    <td><font face=\"Courier New\">6/21/17</font></td>\n",
        "    <td><font face=\"Courier New\">&nbsp&nbsp16 GB</font></td>\n",
        "    <td><a href=\"https://www.nvidia.com/en-us/data-center/v100/\">Details</a></td>\n",
        "  </tr>\n",
        "  <tr height=\"35\" >\n",
        "    <td align=\"center\">T4</td>\n",
        "    <td >Turing</td>\n",
        "    <td><font face=\"Courier New\">9/13/18</font></td>\n",
        "    <td><font face=\"Courier New\">&nbsp&nbsp15 GB</font></td>\n",
        "    <td><a href=\"https://www.nvidia.com/en-us/data-center/tesla-t4/\">Details</a></td>\n",
        "  </tr>\n",
        "  <tr height=\"35\"  bgcolor=\"#e6f5e6\">\n",
        "    <td align=\"center\">A100</td>\n",
        "    <td>Ampere</td>\n",
        "    <td><font face=\"Courier New\">5/14/20</font></td>\n",
        "    <td><font face=\"Courier New\">&nbsp&nbsp40 GB</font></td>\n",
        "    <td><a href=\"https://www.nvidia.com/en-us/data-center/a100/\">Details</a></td>\n",
        "  </tr>\n",
        "  <tr height=\"35\" >\n",
        "    <td align=\"center\">L4</td>\n",
        "    <td>Ada Lovelace</td>\n",
        "    <td><font face=\"Courier New\">3/21/23</font></td>\n",
        "    <td><font face=\"Courier New\">22.5 GB</font></td>\n",
        "    <td><a href=\"https://www.nvidia.com/en-us/data-center/l4/\">Details</a></td>\n",
        "  </tr>\n",
        "</table>\n"
      ],
      "metadata": {
        "id": "hk11K4V0rmDG"
      }
    },
    {
      "cell_type": "markdown",
      "source": [
        "Some notes:\n",
        "\n",
        "* The A100 does come in an 80GB version, but you'd have to go elsewhere to access one.\n",
        "* The T4 is marketed as 16GB, but only 15GB is useable because 1GB is used for the card's \"error code correction\" (ECC) function (from [here](https://forums.developer.nvidia.com/t/nvidia-t4-has-only-15g-of-memory/173099)).\n",
        "\n",
        "> _What's ECC? While Neural Networks are fuzzy and don't require strict precision, other types of scientific computing require high precision, motivating 64-bit floats and ECC, which protects against occassional bit flips by--not kidding--cosmic rays. Ok, that's only_ one _of the causes, but still!_ 😅\n"
      ],
      "metadata": {
        "id": "v3gwRw47eiEK"
      }
    },
    {
      "cell_type": "markdown",
      "source": [
        "\n",
        "Also, below are a couple cards that aren't on Colab yet. The `Hopper` and `Ada Lovelace` architectures are the same generation, but Hopper was designed specifically for AI and is the successor to the A100."
      ],
      "metadata": {
        "id": "J7WEaIaCxgj2"
      }
    },
    {
      "cell_type": "markdown",
      "source": [
        "| GPU Model | Architecture | Launch Date | VRAM | Website |\n",
        "|-----------|--------------|-------------|------|--------------|\n",
        "| H100      | Hopper       | 3/21/23     | 80GB | [Details](https://www.nvidia.com/en-us/data-center/h100/) |\n",
        "| B100      | Blackwell    | Coming 2024 | ? | .. |"
      ],
      "metadata": {
        "id": "7KWmySeadzRl"
      }
    },
    {
      "cell_type": "markdown",
      "source": [
        "# S5. Performance & Features"
      ],
      "metadata": {
        "id": "4yi1w8MA-yXa"
      }
    },
    {
      "cell_type": "markdown",
      "source": [
        "### 5.1. Speed"
      ],
      "metadata": {
        "id": "7_iQMmK5PXHi"
      }
    },
    {
      "cell_type": "markdown",
      "source": [
        "Speed comparisons on GPUs can be tricky--they depend on your use case. I'll give you some **anecdotal** numbers, though, based on my current project where I'm trying to fine-tune an LLM on a single GPU.\n",
        "\n",
        "For my application, I want a maximum **sequence length** of **1,024** and a **batch size** of **4**. However, _there is not enough memory on the T4_ to run this, unless I employ some tricks which sacrifice training speed (namely, gradient checkpointing).\n"
      ],
      "metadata": {
        "id": "sMcgCXVYPZlt"
      }
    },
    {
      "cell_type": "markdown",
      "source": [
        "\n",
        "**At Reduced Settings**\n",
        "\n",
        "For the sake of a straight comparison, I can reduce the sequence length to 512 and the batch size to 1 (and no gradient checkpointing or accumulation).\n",
        "\n",
        "With these reduced settings, it looks like 500 training steps will take roughly:\n",
        "\n",
        "* T4 = 12 min\n",
        "* L4 = 5.5 min (~2.2x faster than T4)\n",
        "* A100 = 2 min (~6x faster than T4)\n"
      ],
      "metadata": {
        "id": "QkLvNt5RnhPS"
      }
    },
    {
      "cell_type": "markdown",
      "source": [
        "**At Desired Settings**\n",
        "\n",
        "But those aren't the actual settings that I want to run with! I want a sequence length of 1,024 and an effective training batch size of 4.\n",
        "\n",
        "The performance difference gets larger in this context, with the A100 becoming 13 times faster than the T4!\n",
        "\n",
        "|  GPU | Seq Len | Grad Check | Batch Size | Accumulation Steps | Memory Use |   Time   | Speed vs. T4 |\n",
        "|:----:|:-------:|:----------:|:----------:|:------------------:|:----------:|:------------------------------:|:------------:|\n",
        "|  T4  |   1024  |    True    |      1     |          4         | 7.0GB      | ~2h 10min |      1x      |\n",
        "|  L4  |   1024  |    False   |      1     |          4         |  17.5GB    | ~47min      |     2.8x     |\n",
        "| A100 |   1024  |    False   |      2     |          2         |   28.1 GB  | ~10min |      13x     |\n",
        "\n",
        "Note how the memory usage compares to the memory of each GPU. To avoid using gradient checkpointing, I needed 17.5GB, which is more than the T4s 15GB. In order to use a larger batch size (and take better advantage of the GPU's parallelism), I needed 28.1 GB of memory, which is larger than the L4's 22.5GB.\n",
        "\n",
        "Memory is key!\n"
      ],
      "metadata": {
        "id": "Etez9LYbnSxC"
      }
    },
    {
      "cell_type": "markdown",
      "source": [
        "\n",
        "**TeraFLOPS**\n",
        "\n",
        "NVIDIA likes to report teraflops as the metric for GPU performance, but my understanding is that these are measured on a simple matrix multiplication that fully utilizes the GPU, and you're not likely to see the same performance if you tried calculating the FLOPs you're getting in your application.\n",
        "\n",
        "_However_, based on the above, they _do_ appear to be a reasonable measure for comparing the relative speed of the GPUs:\n",
        "\n",
        "| GPU | teraFLOPS | Precision | Mult. |\n",
        "|-----|-----------|-----------|-------|\n",
        "| T4  | 65  |  FP16 | - |\n",
        "| L4  |  121  | FP16 | 1.9x |\n",
        "| A100 | 312 |  FP16 | 4.8x |\n",
        "\n",
        "(I was suspicious that maybe the performance gains wouldn't be as large as the teraFLOPS would suggest, but I'm actually seeing _larger_ gains)."
      ],
      "metadata": {
        "id": "z_h0FDYsOlyO"
      }
    },
    {
      "cell_type": "markdown",
      "source": [
        "**Cost Effectiveness**\n",
        "\n",
        "It seems that if your task fits within the T4's memory, it may actually be the lowest cost for doing a training run. But if the extra memory helps, then the A100 can actually be cheaper.\n",
        "\n",
        "That's only considering the hardware cost, though--saving engineering time and being able to iterate faster is a huge benefit!\n",
        "\n",
        "I plan to use the A100 for any full training runs (assuming I can get my hands on one 😏).\n"
      ],
      "metadata": {
        "id": "8_lhPEsTM5Om"
      }
    },
    {
      "cell_type": "markdown",
      "source": [
        "### 5.2. FlashAttention on the T4"
      ],
      "metadata": {
        "id": "scygeGOGSV0d"
      }
    },
    {
      "cell_type": "markdown",
      "source": [
        "FlashAttention is a clever rewrite of the attention calculation GPU code which results in a significant improvement in speed and memory use. In my experience, it provides the most benefit at longer sequence lengths, such as 1k and up.\n",
        "\n",
        "\"Squared Dot Product Attention\" (sdpa) has been implemented as of Jan 2024 in [PyTorch v2.2](https://github.com/pytorch/pytorch/releases/tag/v2.2.0), and If I understand correctly it's the more generic name for the key contribution of FlashAttention.\n",
        "\n",
        "In my experiments SDPA seems to provide roughly the same improvement as FlashAttention v2, and it's the default choice in HuggingFace.\n"
      ],
      "metadata": {
        "id": "7nagp321SZGA"
      }
    },
    {
      "cell_type": "markdown",
      "source": [
        "**On The T4**\n",
        "\n",
        "The reason I bring it up is that the original FlashAttention v2 isn't implemented for the T4, but this doesn't seem to matter since SDPA _is_ supported on the T4.\n",
        "\n",
        "More specifically:\n",
        "\n",
        "You select your attention implementation in HuggingFace when loading your model using the `attn_implementation` parameter of the `from_pretrained` function.\n",
        "\n",
        "It gives you three choices:\n",
        "* \"eager\" - The simple/original approach\n",
        "* \"flash_attention_2\" - The original implementation by Dao.\n",
        "* \"sdpa\" - From PyTorch, selected by default\n",
        "\n",
        "If you try selelction \"flash_attention_2\" on the T4, you'll get an error. But again, I don't think this matters--just stick with \"sdpa\" (the default).\n"
      ],
      "metadata": {
        "id": "qoRZOVm_qS3y"
      }
    },
    {
      "cell_type": "markdown",
      "source": [
        "\n",
        "**Research Notes**\n",
        "\n",
        "* I had a really hard time locating the docs for this! I finally figured out that `from_pretrained` comes from the `PreTrainedModel` class, and the `attn_implementation` parameter is documented [here](https://huggingface.co/docs/transformers/v4.39.3/en/main_classes/model#transformers.PreTrainedModel.from_pretrained.attn_implementation).\n",
        "\n",
        "* According to the author / GitHub repo [here](https://github.com/Dao-AILab/flash-attention):\n",
        "\n",
        "    * > \"Ampere, Ada, or Hopper GPUs (e.g., A100, RTX 3090, RTX 4090, H100). Support for Turing GPUs (T4, RTX 2080) is coming soon, please use FlashAttention 1.x for Turing GPUs for now.\"\n",
        "\n"
      ],
      "metadata": {
        "id": "bKmbdijwp1Ly"
      }
    },
    {
      "cell_type": "markdown",
      "source": [
        "### 5.3. No bfloat16 on V100 or T4\n"
      ],
      "metadata": {
        "id": "Srw298q2-0lC"
      }
    },
    {
      "cell_type": "markdown",
      "source": [
        "\n",
        "**What's bfloat16?**\n",
        "\n",
        "\"Brain Floating Point\" or \"`bfloat16`\", (named because it was developed at Google Brain) is a data type with advantages for neural network training over `float16`. It has to implemented in hardware, and is supported by the newer GPUs (A100 and L4) but not the older GPUs (V100 and T4).\n",
        "\n",
        "Compared to `float16` it's able to represent **much tinier** numbers (all the way down to about $ 1.2 \\times 10^{−38} $) and **much bigger** numbers (all the way up to about $ 3.4 \\times 10^{38} $).\n",
        "\n",
        "Neural networks, particularly deep ones, can have problems with gradients getting very large or very small, and `bfloat16` has much less rounding error than `float16` in these domains.\n",
        "\n",
        "The trade-off is that `bfloat16` has _more_ rounding error inside the range of values that `float16` can represent, $ 6 \\times 10^{-8} $ to $ 64\\text{K} $, but neural networks are apparently less impacted by reduced precision in that range.\n",
        "\n",
        "> Side Note: I thought it was interesting to learn that `bfloat16` uses the same number of bits for the exponent as `float32`, and is able to represent the same range of values as `float32`, just with less precision.\n",
        "\n",
        "\n",
        "\n"
      ],
      "metadata": {
        "id": "NxMArr-MqeBy"
      }
    },
    {
      "cell_type": "markdown",
      "source": [
        "**Why does it matter in practice?**\n",
        "\n",
        "To try to understand this, I asked ChatGPT to tell me a story about the day in the life of a researcher impacted by this issue. 😅\n",
        "\n",
        "The key takeaways were that numerical instability resulted in:\n",
        "> \"The loss function fluctuated wildly from one epoch to the next, and the performance metrics exhibit erratic behavior\"\n",
        "\n",
        "And that by switching to bfloat16:\n",
        "> \"The loss function converges more smoothly, and the model's performance becomes more consistent across different runs.\"\n",
        "\n",
        "Clearly, you're not doomed to failure by using `float16`, and you may or may not encounter these issues based on other factors (ChatGPT did have a little more to say about why you may or may not encounter this--you can read my discussion with ChatGPT about it [here](https://chat.openai.com/share/b4397b14-5892-4885-ba1c-0093b7c5e86a)). So I really have no idea how \"make or break\" this feature is!\n",
        "\n",
        "I'd love to be able to share a real anecdote around this. Maybe I'll try running with and without it for a project or two and see if I notice any difference. 🤷‍♂️"
      ],
      "metadata": {
        "id": "T8uHTOfHEwl7"
      }
    },
    {
      "cell_type": "markdown",
      "source": [
        "**I hate flags...**\n",
        "\n",
        "There is _one_ datapoint I can share from experience on this topic--it's a pain in the butt to switch between `float16` and `bfloat16` depending on which GPU you're using. 😅\n",
        "\n",
        "For fine-tuning LLMs, this datatype needs to be specified in several different spots, and I'm really resistant to mucking up my tutorial code with \"If GPU == T4\" checks! 😝"
      ],
      "metadata": {
        "id": "G8GmYEk-ZeTi"
      }
    },
    {
      "cell_type": "markdown",
      "source": [
        "# S6. Conclusion"
      ],
      "metadata": {
        "id": "s4v13vDiYEEA"
      }
    },
    {
      "cell_type": "markdown",
      "source": [
        "A key takeaway for me from all of this was simply:\n",
        "\n",
        "* Develop code and get it running on the T4 to save money.\n",
        "* When it's time to actually do a full training run, get your hands on an A100 if you can!\n",
        "\n",
        "I think the topic of fine-tuning LLMs is eventually going to take me into the multi-gpu realm, and Colab does allow you to run on a custom Google Cloud instance, so perhaps I'll have more to share on that later!\n",
        "\n",
        "(The big cloud platforms can be very daunting to use--I'd suggest [Lambda Labs](https://lambdalabs.com/service/gpu-cloud) if you're looking for a Colab-like experience with access to multiple GPU instances).\n",
        "\n",
        "Hope you found this info helpful. If you have further insights to share--leave a comment, or come join me on our Discord!"
      ],
      "metadata": {
        "id": "xjkRb52lYHvK"
      }
    }
  ]
}